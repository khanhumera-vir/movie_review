{
 "cells": [
  {
   "cell_type": "code",
   "execution_count": 3,
   "id": "5c3d06db",
   "metadata": {},
   "outputs": [],
   "source": [
    "import requests\n",
    "TMDB_API_KEY = \"9648cacf1821fbb47040d7aed3534b73\" \n",
    "url = \"https://api.themoviedb.org/3/search/movie\"\n",
    "params = {\n",
    "        \"api_key\": TMDB_API_KEY,\n",
    "        \"query\": \"superman\"  \n",
    "    }\n"
   ]
  },
  {
   "cell_type": "code",
   "execution_count": 7,
   "id": "6c1cab7b",
   "metadata": {},
   "outputs": [],
   "source": [
    "data=requests.get(url, params=params)\n",
    "my=data.json().get(\"results\", [])\n"
   ]
  },
  {
   "cell_type": "code",
   "execution_count": 1,
   "id": "ea38cc15",
   "metadata": {},
   "outputs": [
    {
     "name": "stdout",
     "output_type": "stream",
     "text": [
      "22\n",
      "2\n"
     ]
    }
   ],
   "source": [
    "def simple_hash(s, table_size=100):\n",
    "    hash_value = 0\n",
    "    for char in s:\n",
    "        hash_value = (hash_value * 31 + ord(char)) % table_size\n",
    "    return hash_value\n",
    "\n",
    "# Example usage\n",
    "print(simple_hash(\"hello\"))  # Might output: 32\n",
    "print(simple_hash(\"world\"))  # Might output: 91\n"
   ]
  }
 ],
 "metadata": {
  "kernelspec": {
   "display_name": "Python 3",
   "language": "python",
   "name": "python3"
  },
  "language_info": {
   "codemirror_mode": {
    "name": "ipython",
    "version": 3
   },
   "file_extension": ".py",
   "mimetype": "text/x-python",
   "name": "python",
   "nbconvert_exporter": "python",
   "pygments_lexer": "ipython3",
   "version": "3.12.0"
  }
 },
 "nbformat": 4,
 "nbformat_minor": 5
}
